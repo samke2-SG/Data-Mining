{
 "cells": [
  {
   "cell_type": "code",
   "execution_count": null,
   "metadata": {},
   "outputs": [],
   "source": [
    "import csv\n",
    "import tweepy \n",
    "\n",
    "\n",
    " \n",
    "consumer_key = '2cbbZ5d8x4Dag6GjuWLQ29lwO'\n",
    "consumer_secret = 'qGwYfMb0MERTjYmdim9u5rcw00WhL9c7VbjX8upImMMhqNFXrK'\n",
    "access_token = '1291443166479081473-FfmDEXyfSsB0eUfGPLoIUI8u5DQgrU'\n",
    "access_token_secret = 'pR5X60qbSZsYF4pcRWsX6c0wRMnxZyoPxtK5xn21znyGb'\n",
    " \n",
    "auth = tweepy.OAuthHandler(consumer_key, consumer_secret)\n",
    "auth.set_access_token_secret(access_token, access_token_secret)\n",
    " \n",
    "api = tweepy.API(auth)"
   ]
  },
  {
   "cell_type": "code",
   "execution_count": null,
   "metadata": {},
   "outputs": [],
   "source": [
    "import tweepy\n",
    "\n",
    "hashtag='#fridaymoring'\n",
    "tweetFile = 'tweets.csv'\n",
    "with open('tweetFile', 'w') as f:\n",
    "     w = csv.write(file)\n",
    "    w.writerow(['Tweets','Times per tweet','Retweets','Reactions'])\n",
    "        \n",
    "    for status in tweepy.Cursor(api.home_timeline).items(15):\n",
    "        process_or_store(status._csv)\n"
   ]
  },
  {
   "cell_type": "code",
   "execution_count": null,
   "metadata": {},
   "outputs": [],
   "source": []
  },
  {
   "cell_type": "code",
   "execution_count": null,
   "metadata": {},
   "outputs": [],
   "source": [
    "\n",
    "    "
   ]
  },
  {
   "cell_type": "code",
   "execution_count": null,
   "metadata": {},
   "outputs": [],
   "source": [
    "import re\n",
    " \n",
    "emoticons_str = r\"\"\"\n",
    "    (?:\n",
    "        [:=;] # Eyes\n",
    "        [oO\\-]? # Nose (optional)\n",
    "        [D\\)\\]\\(\\]/\\\\OpP] # Mouth\n",
    "    )\"\"\"\n",
    "regex_str = [\n",
    "    emoticons_str,\n",
    "    r'<[^>]+>', \n",
    "    r'(?:@[\\w_]+)',\n",
    "    r\"(?:\\#+[\\w_]+[\\w\\'_\\-]*[\\w_]+)\", # hash-tags\n",
    "    r'http[s]?://(?:[a-z]|[0-9]|[$-_@.&amp;+]|[!*\\(\\),]|(?:%[0-9a-f][0-9a-f]))+', # URLs\n",
    " \n",
    "    r'(?:(?:\\d+,?)+(?:\\.?\\d+)?)', # numbers\n",
    "    r\"(?:[a-z][a-z'\\-_]+[a-z])\", # words with - and '\n",
    "    r'(?:[\\w_]+)', # other words\n",
    "    r'(?:\\S)' # anything else\n",
    "]\n",
    "    \n",
    "tokens_re = re.compile(r'('+'|'.join(regex_str)+')', re.VERBOSE | re.IGNORECASE)\n",
    "emoticon_re = re.compile(r'^'+emoticons_str+'$', re.VERBOSE | re.IGNORECASE)\n",
    " \n",
    "def tokenize(s):\n",
    "    return tokens_re.findall(s)\n",
    " \n",
    "def preprocess(s, lowercase=False):\n",
    "    tokens = tokenize(s)\n",
    "    if lowercase:\n",
    "        tokens = [token if emoticon_re.search(token) else token.lower() for token in tokens]\n",
    "    return tokens\n",
    " \n",
    "tweet = 'RT @sisamkeleg'\n",
    "print(preprocess(tweet))\n"
   ]
  },
  {
   "cell_type": "code",
   "execution_count": null,
   "metadata": {},
   "outputs": [],
   "source": [
    "with open('tweets.csv', 'r') as f:\n",
    "    for line in f:\n",
    "        tweet = csv.loads(line)\n",
    "        tokens = preprocess(tweet['text'])\n",
    "        do_something_else(tokens)"
   ]
  },
  {
   "cell_type": "code",
   "execution_count": null,
   "metadata": {},
   "outputs": [],
   "source": [
    "import pandas as pd\n",
    "import matplotlib as plt\n",
    "\n",
    "plt.hist(python_df['times per tweet'],bins=10)\n",
    "\n",
    "plt.show()"
   ]
  },
  {
   "cell_type": "code",
   "execution_count": null,
   "metadata": {},
   "outputs": [],
   "source": [
    "import matplotlib as plt\n",
    "\n",
    "fig=plt.figure(figsize=(20,5))\n",
    "graph=fig.add_axes([0,0,1,1])\n",
    "\n",
    "graph.set_title('Twitter Data Visualization')\n",
    "graph.set_xlabel('Tweets')\n",
    "graph.set_ylabel('Times per Tweet')\n",
    "graph.plot(python_df['timestamp'],python_df['followers_count'],color='green')\n",
    "\n",
    "plt.show()"
   ]
  },
  {
   "cell_type": "code",
   "execution_count": null,
   "metadata": {},
   "outputs": [],
   "source": [
    "import matplotlib as plt\n",
    "\n",
    "fig=plt.figure(figsize=(20,5))\n",
    "graph=fig.add_axes([0,0,1,1])\n",
    "\n",
    "graph.set_title('Twitter Data Visualization')\n",
    "graph.set_xlabel('Retweets')\n",
    "graph.set_ylabel('Times per Tweet')\n",
    "graph.plot(python_df['timestamp'],python_df['followers_count'],color='green')\n",
    "\n",
    "plt.show()"
   ]
  }
 ],
 "metadata": {
  "kernelspec": {
   "display_name": "Python 3",
   "language": "python",
   "name": "python3"
  },
  "language_info": {
   "codemirror_mode": {
    "name": "ipython",
    "version": 3
   },
   "file_extension": ".py",
   "mimetype": "text/x-python",
   "name": "python",
   "nbconvert_exporter": "python",
   "pygments_lexer": "ipython3",
   "version": "3.7.6"
  }
 },
 "nbformat": 4,
 "nbformat_minor": 4
}
